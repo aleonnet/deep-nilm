{
 "cells": [
  {
   "cell_type": "code",
   "execution_count": 7,
   "metadata": {
    "collapsed": false,
    "deletable": true,
    "editable": true
   },
   "outputs": [
    {
     "data": {
      "text/html": [
       "<div>\n",
       "<table border=\"1\" class=\"dataframe\">\n",
       "  <thead>\n",
       "    <tr style=\"text-align: right;\">\n",
       "      <th></th>\n",
       "      <th>dataset</th>\n",
       "      <th>building</th>\n",
       "      <th>has_act</th>\n",
       "      <th>start</th>\n",
       "      <th>end</th>\n",
       "      <th>0</th>\n",
       "      <th>1</th>\n",
       "      <th>2</th>\n",
       "      <th>3</th>\n",
       "      <th>4</th>\n",
       "      <th>...</th>\n",
       "      <th>44</th>\n",
       "      <th>45</th>\n",
       "      <th>46</th>\n",
       "      <th>47</th>\n",
       "      <th>48</th>\n",
       "      <th>49</th>\n",
       "      <th>50</th>\n",
       "      <th>51</th>\n",
       "      <th>52</th>\n",
       "      <th>53</th>\n",
       "    </tr>\n",
       "  </thead>\n",
       "  <tbody>\n",
       "    <tr>\n",
       "      <th>0</th>\n",
       "      <td>ukdale</td>\n",
       "      <td>1</td>\n",
       "      <td>1</td>\n",
       "      <td>2013-03-17 20:40:27</td>\n",
       "      <td>2013-03-17 20:53:27</td>\n",
       "      <td>640.849976</td>\n",
       "      <td>646.190002</td>\n",
       "      <td>650.030029</td>\n",
       "      <td>642.590027</td>\n",
       "      <td>638.859985</td>\n",
       "      <td>...</td>\n",
       "      <td>1.0</td>\n",
       "      <td>1.0</td>\n",
       "      <td>1.0</td>\n",
       "      <td>1.0</td>\n",
       "      <td>1.0</td>\n",
       "      <td>1.0</td>\n",
       "      <td>1.0</td>\n",
       "      <td>1.0</td>\n",
       "      <td>NaN</td>\n",
       "      <td>NaN</td>\n",
       "    </tr>\n",
       "    <tr>\n",
       "      <th>1</th>\n",
       "      <td>ukdale</td>\n",
       "      <td>1</td>\n",
       "      <td>1</td>\n",
       "      <td>2013-03-17 20:40:33</td>\n",
       "      <td>2013-03-17 20:53:33</td>\n",
       "      <td>646.190002</td>\n",
       "      <td>650.030029</td>\n",
       "      <td>642.590027</td>\n",
       "      <td>638.859985</td>\n",
       "      <td>642.559998</td>\n",
       "      <td>...</td>\n",
       "      <td>1.0</td>\n",
       "      <td>1.0</td>\n",
       "      <td>1.0</td>\n",
       "      <td>1.0</td>\n",
       "      <td>1.0</td>\n",
       "      <td>1.0</td>\n",
       "      <td>1.0</td>\n",
       "      <td>1.0</td>\n",
       "      <td>NaN</td>\n",
       "      <td>NaN</td>\n",
       "    </tr>\n",
       "    <tr>\n",
       "      <th>2</th>\n",
       "      <td>ukdale</td>\n",
       "      <td>1</td>\n",
       "      <td>1</td>\n",
       "      <td>2013-03-17 20:40:59</td>\n",
       "      <td>2013-03-17 20:53:59</td>\n",
       "      <td>646.190002</td>\n",
       "      <td>650.030029</td>\n",
       "      <td>642.590027</td>\n",
       "      <td>638.859985</td>\n",
       "      <td>642.559998</td>\n",
       "      <td>...</td>\n",
       "      <td>1.0</td>\n",
       "      <td>1.0</td>\n",
       "      <td>1.0</td>\n",
       "      <td>1.0</td>\n",
       "      <td>1.0</td>\n",
       "      <td>1.0</td>\n",
       "      <td>1.0</td>\n",
       "      <td>1.0</td>\n",
       "      <td>NaN</td>\n",
       "      <td>NaN</td>\n",
       "    </tr>\n",
       "    <tr>\n",
       "      <th>3</th>\n",
       "      <td>ukdale</td>\n",
       "      <td>1</td>\n",
       "      <td>1</td>\n",
       "      <td>2013-03-17 20:41:25</td>\n",
       "      <td>2013-03-17 20:54:25</td>\n",
       "      <td>650.030029</td>\n",
       "      <td>642.590027</td>\n",
       "      <td>638.859985</td>\n",
       "      <td>642.559998</td>\n",
       "      <td>639.109985</td>\n",
       "      <td>...</td>\n",
       "      <td>1.0</td>\n",
       "      <td>1.0</td>\n",
       "      <td>1.0</td>\n",
       "      <td>1.0</td>\n",
       "      <td>1.0</td>\n",
       "      <td>1.0</td>\n",
       "      <td>1.0</td>\n",
       "      <td>1.0</td>\n",
       "      <td>NaN</td>\n",
       "      <td>NaN</td>\n",
       "    </tr>\n",
       "    <tr>\n",
       "      <th>4</th>\n",
       "      <td>ukdale</td>\n",
       "      <td>1</td>\n",
       "      <td>1</td>\n",
       "      <td>2013-03-17 20:41:27</td>\n",
       "      <td>2013-03-17 20:54:27</td>\n",
       "      <td>650.030029</td>\n",
       "      <td>642.590027</td>\n",
       "      <td>638.859985</td>\n",
       "      <td>642.559998</td>\n",
       "      <td>639.109985</td>\n",
       "      <td>...</td>\n",
       "      <td>1.0</td>\n",
       "      <td>1.0</td>\n",
       "      <td>1.0</td>\n",
       "      <td>1.0</td>\n",
       "      <td>1.0</td>\n",
       "      <td>1.0</td>\n",
       "      <td>1.0</td>\n",
       "      <td>1.0</td>\n",
       "      <td>NaN</td>\n",
       "      <td>NaN</td>\n",
       "    </tr>\n",
       "  </tbody>\n",
       "</table>\n",
       "<p>5 rows × 59 columns</p>\n",
       "</div>"
      ],
      "text/plain": [
       "  dataset  building  has_act               start                 end  \\\n",
       "0  ukdale         1        1 2013-03-17 20:40:27 2013-03-17 20:53:27   \n",
       "1  ukdale         1        1 2013-03-17 20:40:33 2013-03-17 20:53:33   \n",
       "2  ukdale         1        1 2013-03-17 20:40:59 2013-03-17 20:53:59   \n",
       "3  ukdale         1        1 2013-03-17 20:41:25 2013-03-17 20:54:25   \n",
       "4  ukdale         1        1 2013-03-17 20:41:27 2013-03-17 20:54:27   \n",
       "\n",
       "            0           1           2           3           4 ...   44   45  \\\n",
       "0  640.849976  646.190002  650.030029  642.590027  638.859985 ...  1.0  1.0   \n",
       "1  646.190002  650.030029  642.590027  638.859985  642.559998 ...  1.0  1.0   \n",
       "2  646.190002  650.030029  642.590027  638.859985  642.559998 ...  1.0  1.0   \n",
       "3  650.030029  642.590027  638.859985  642.559998  639.109985 ...  1.0  1.0   \n",
       "4  650.030029  642.590027  638.859985  642.559998  639.109985 ...  1.0  1.0   \n",
       "\n",
       "    46   47   48   49   50   51  52  53  \n",
       "0  1.0  1.0  1.0  1.0  1.0  1.0 NaN NaN  \n",
       "1  1.0  1.0  1.0  1.0  1.0  1.0 NaN NaN  \n",
       "2  1.0  1.0  1.0  1.0  1.0  1.0 NaN NaN  \n",
       "3  1.0  1.0  1.0  1.0  1.0  1.0 NaN NaN  \n",
       "4  1.0  1.0  1.0  1.0  1.0  1.0 NaN NaN  \n",
       "\n",
       "[5 rows x 59 columns]"
      ]
     },
     "execution_count": 7,
     "metadata": {},
     "output_type": "execute_result"
    }
   ],
   "source": [
    "import pandas as pd\n",
    "import numpy as np\n",
    "from sklearn.model_selection import train_test_split\n",
    "from sklearn.neural_network import MLPRegressor\n",
    "from sklearn.preprocessing.data import Normalizer\n",
    "from sklearn.preprocessing import MinMaxScaler\n",
    "from sklearn.preprocessing import StandardScaler\n",
    "from sklearn.decomposition import PCA\n",
    "from sklearn import preprocessing\n",
    "\n",
    "\n",
    "columns = ['dataset','building','has_act','start','end'] + range(54)\n",
    "data = pd.read_csv('windat_kettle.csv', names=columns, index_col=None, \n",
    "                   header=None, parse_dates=['start','end'], date_parser=pd.to_datetime)\n",
    "data.head()"
   ]
  },
  {
   "cell_type": "code",
   "execution_count": 8,
   "metadata": {
    "collapsed": false,
    "deletable": true,
    "editable": true
   },
   "outputs": [
    {
     "name": "stdout",
     "output_type": "stream",
     "text": [
      "Casas de REDD con activaciones: []\n",
      "Casas de REDD sin activaciones: []\n",
      "Casas de UK-DALE con activaciones: [1]\n",
      "Casas de UK-DALE sin activaciones: [1 2 3 4 5]\n"
     ]
    }
   ],
   "source": [
    "# separar por dataset\n",
    "data_redd = data[data['dataset'] == 'redd']\n",
    "data_ukdale = data[data['dataset'] == 'ukdale']\n",
    "\n",
    "# separar por si tienen o no activaciones\n",
    "data_redd_act = data_redd[data_redd['has_act'] == 1]\n",
    "data_redd_noact = data_redd[data_redd['has_act'] == 0]\n",
    "data_ukdale_act = data_ukdale[data_ukdale['has_act'] == 1]\n",
    "data_ukdale_noact = data_ukdale[data_ukdale['has_act'] == 0]\n",
    "\n",
    "print \"Casas de REDD con activaciones: \" + str(data_redd_act['building'].unique())\n",
    "print \"Casas de REDD sin activaciones: \" + str(data_redd_noact['building'].unique())\n",
    "print \"Casas de UK-DALE con activaciones: \"+ str(data_ukdale_act['building'].unique())\n",
    "print \"Casas de UK-DALE sin activaciones: \" + str(data_ukdale_noact['building'].unique())"
   ]
  },
  {
   "cell_type": "markdown",
   "metadata": {
    "deletable": true,
    "editable": true
   },
   "source": [
    "No es posible separar una casa para validar"
   ]
  },
  {
   "cell_type": "code",
   "execution_count": 9,
   "metadata": {
    "collapsed": false,
    "deletable": true,
    "editable": true
   },
   "outputs": [],
   "source": [
    "data_train = data_ukdale"
   ]
  },
  {
   "cell_type": "code",
   "execution_count": 10,
   "metadata": {
    "collapsed": false,
    "deletable": true,
    "editable": true
   },
   "outputs": [],
   "source": [
    "data_train = data_train[range(54)]\n",
    "data_train = data_train.fillna(0)\n",
    "\n",
    "d = np.shape(data_train)[1]/2\n",
    "X_train = preprocessing.scale(np.array(data_train.iloc[:,:d]), with_mean=False, with_std=True)\n",
    "y_train = preprocessing.scale(np.array(data_train.iloc[:,d:]), with_mean=False, with_std=True)\n",
    "\n",
    "X_train, X_test, y_train, y_test = train_test_split(X_train, y_train, test_size=0.33, random_state=42)"
   ]
  },
  {
   "cell_type": "code",
   "execution_count": 11,
   "metadata": {
    "collapsed": false,
    "deletable": true,
    "editable": true
   },
   "outputs": [],
   "source": [
    "regressor = MLPRegressor(solver='adam',\n",
    "                        alpha=1e-5,\n",
    "                        activation = 'tanh',\n",
    "                        verbose = False,\n",
    "                        hidden_layer_sizes=(500,500,500,),\n",
    "                        tol=1e-8,\n",
    "                        learning_rate='adaptive',\n",
    "                        learning_rate_init=0.001,\n",
    "                        random_state=1,\n",
    "                        early_stopping=False,\n",
    "                        validation_fraction=0.2)\n",
    "\n",
    "regressor = regressor.fit(X_train, y_train)"
   ]
  },
  {
   "cell_type": "code",
   "execution_count": 12,
   "metadata": {
    "collapsed": false,
    "deletable": true,
    "editable": true
   },
   "outputs": [
    {
     "name": "stdout",
     "output_type": "stream",
     "text": [
      "Train data: score= 0.924267015692\n",
      "Test data: score= 0.783280099541\n"
     ]
    }
   ],
   "source": [
    "print \"Train data: score= {}\".format(regressor.score(X_train, y_train))\n",
    "print \"Test data: score= {}\".format(regressor.score(X_test, y_test))"
   ]
  }
 ],
 "metadata": {
  "kernelspec": {
   "display_name": "Python 2",
   "language": "python",
   "name": "python2"
  },
  "language_info": {
   "codemirror_mode": {
    "name": "ipython",
    "version": 2
   },
   "file_extension": ".py",
   "mimetype": "text/x-python",
   "name": "python",
   "nbconvert_exporter": "python",
   "pygments_lexer": "ipython2",
   "version": "2.7.13"
  }
 },
 "nbformat": 4,
 "nbformat_minor": 2
}
