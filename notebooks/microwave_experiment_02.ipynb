{
 "cells": [
  {
   "cell_type": "code",
   "execution_count": 21,
   "metadata": {
    "collapsed": false,
    "deletable": true,
    "editable": true
   },
   "outputs": [
    {
     "data": {
      "text/html": [
       "<div>\n",
       "<table border=\"1\" class=\"dataframe\">\n",
       "  <thead>\n",
       "    <tr style=\"text-align: right;\">\n",
       "      <th></th>\n",
       "      <th>dataset</th>\n",
       "      <th>building</th>\n",
       "      <th>has_act</th>\n",
       "      <th>start</th>\n",
       "      <th>end</th>\n",
       "      <th>0</th>\n",
       "      <th>1</th>\n",
       "      <th>2</th>\n",
       "      <th>3</th>\n",
       "      <th>4</th>\n",
       "      <th>...</th>\n",
       "      <th>52</th>\n",
       "      <th>53</th>\n",
       "      <th>54</th>\n",
       "      <th>55</th>\n",
       "      <th>56</th>\n",
       "      <th>57</th>\n",
       "      <th>58</th>\n",
       "      <th>59</th>\n",
       "      <th>60</th>\n",
       "      <th>61</th>\n",
       "    </tr>\n",
       "  </thead>\n",
       "  <tbody>\n",
       "    <tr>\n",
       "      <th>0</th>\n",
       "      <td>redd</td>\n",
       "      <td>1</td>\n",
       "      <td>0</td>\n",
       "      <td>2011-04-18 16:54:03</td>\n",
       "      <td>2011-04-18 17:09:03</td>\n",
       "      <td>99.389999</td>\n",
       "      <td>97.430000</td>\n",
       "      <td>95.779999</td>\n",
       "      <td>95.410004</td>\n",
       "      <td>95.379997</td>\n",
       "      <td>...</td>\n",
       "      <td>4.0</td>\n",
       "      <td>4.0</td>\n",
       "      <td>4.0</td>\n",
       "      <td>4.0</td>\n",
       "      <td>4.0</td>\n",
       "      <td>4.0</td>\n",
       "      <td>4.0</td>\n",
       "      <td>4.0</td>\n",
       "      <td>NaN</td>\n",
       "      <td>NaN</td>\n",
       "    </tr>\n",
       "    <tr>\n",
       "      <th>1</th>\n",
       "      <td>redd</td>\n",
       "      <td>1</td>\n",
       "      <td>0</td>\n",
       "      <td>2011-04-18 16:54:12</td>\n",
       "      <td>2011-04-18 17:09:12</td>\n",
       "      <td>99.389999</td>\n",
       "      <td>97.430000</td>\n",
       "      <td>95.779999</td>\n",
       "      <td>95.410004</td>\n",
       "      <td>95.379997</td>\n",
       "      <td>...</td>\n",
       "      <td>4.0</td>\n",
       "      <td>4.0</td>\n",
       "      <td>4.0</td>\n",
       "      <td>4.0</td>\n",
       "      <td>4.0</td>\n",
       "      <td>4.0</td>\n",
       "      <td>4.0</td>\n",
       "      <td>4.0</td>\n",
       "      <td>NaN</td>\n",
       "      <td>NaN</td>\n",
       "    </tr>\n",
       "    <tr>\n",
       "      <th>2</th>\n",
       "      <td>redd</td>\n",
       "      <td>1</td>\n",
       "      <td>0</td>\n",
       "      <td>2011-04-18 16:54:14</td>\n",
       "      <td>2011-04-18 17:09:14</td>\n",
       "      <td>99.389999</td>\n",
       "      <td>97.430000</td>\n",
       "      <td>95.779999</td>\n",
       "      <td>95.410004</td>\n",
       "      <td>95.379997</td>\n",
       "      <td>...</td>\n",
       "      <td>4.0</td>\n",
       "      <td>4.0</td>\n",
       "      <td>4.0</td>\n",
       "      <td>4.0</td>\n",
       "      <td>4.0</td>\n",
       "      <td>4.0</td>\n",
       "      <td>4.0</td>\n",
       "      <td>4.0</td>\n",
       "      <td>NaN</td>\n",
       "      <td>NaN</td>\n",
       "    </tr>\n",
       "    <tr>\n",
       "      <th>3</th>\n",
       "      <td>redd</td>\n",
       "      <td>1</td>\n",
       "      <td>0</td>\n",
       "      <td>2011-04-18 16:54:20</td>\n",
       "      <td>2011-04-18 17:09:20</td>\n",
       "      <td>99.389999</td>\n",
       "      <td>97.430000</td>\n",
       "      <td>95.779999</td>\n",
       "      <td>95.410004</td>\n",
       "      <td>95.379997</td>\n",
       "      <td>...</td>\n",
       "      <td>4.0</td>\n",
       "      <td>4.0</td>\n",
       "      <td>4.0</td>\n",
       "      <td>4.0</td>\n",
       "      <td>4.0</td>\n",
       "      <td>4.0</td>\n",
       "      <td>4.0</td>\n",
       "      <td>4.0</td>\n",
       "      <td>NaN</td>\n",
       "      <td>NaN</td>\n",
       "    </tr>\n",
       "    <tr>\n",
       "      <th>4</th>\n",
       "      <td>redd</td>\n",
       "      <td>1</td>\n",
       "      <td>0</td>\n",
       "      <td>2011-04-18 16:54:58</td>\n",
       "      <td>2011-04-18 17:09:58</td>\n",
       "      <td>97.430000</td>\n",
       "      <td>95.779999</td>\n",
       "      <td>95.410004</td>\n",
       "      <td>95.379997</td>\n",
       "      <td>96.229996</td>\n",
       "      <td>...</td>\n",
       "      <td>4.0</td>\n",
       "      <td>4.0</td>\n",
       "      <td>4.0</td>\n",
       "      <td>4.0</td>\n",
       "      <td>4.0</td>\n",
       "      <td>4.0</td>\n",
       "      <td>4.0</td>\n",
       "      <td>4.0</td>\n",
       "      <td>NaN</td>\n",
       "      <td>NaN</td>\n",
       "    </tr>\n",
       "  </tbody>\n",
       "</table>\n",
       "<p>5 rows × 67 columns</p>\n",
       "</div>"
      ],
      "text/plain": [
       "  dataset  building  has_act               start                 end  \\\n",
       "0    redd         1        0 2011-04-18 16:54:03 2011-04-18 17:09:03   \n",
       "1    redd         1        0 2011-04-18 16:54:12 2011-04-18 17:09:12   \n",
       "2    redd         1        0 2011-04-18 16:54:14 2011-04-18 17:09:14   \n",
       "3    redd         1        0 2011-04-18 16:54:20 2011-04-18 17:09:20   \n",
       "4    redd         1        0 2011-04-18 16:54:58 2011-04-18 17:09:58   \n",
       "\n",
       "           0          1          2          3          4 ...   52   53   54  \\\n",
       "0  99.389999  97.430000  95.779999  95.410004  95.379997 ...  4.0  4.0  4.0   \n",
       "1  99.389999  97.430000  95.779999  95.410004  95.379997 ...  4.0  4.0  4.0   \n",
       "2  99.389999  97.430000  95.779999  95.410004  95.379997 ...  4.0  4.0  4.0   \n",
       "3  99.389999  97.430000  95.779999  95.410004  95.379997 ...  4.0  4.0  4.0   \n",
       "4  97.430000  95.779999  95.410004  95.379997  96.229996 ...  4.0  4.0  4.0   \n",
       "\n",
       "    55   56   57   58   59  60  61  \n",
       "0  4.0  4.0  4.0  4.0  4.0 NaN NaN  \n",
       "1  4.0  4.0  4.0  4.0  4.0 NaN NaN  \n",
       "2  4.0  4.0  4.0  4.0  4.0 NaN NaN  \n",
       "3  4.0  4.0  4.0  4.0  4.0 NaN NaN  \n",
       "4  4.0  4.0  4.0  4.0  4.0 NaN NaN  \n",
       "\n",
       "[5 rows x 67 columns]"
      ]
     },
     "execution_count": 21,
     "metadata": {},
     "output_type": "execute_result"
    }
   ],
   "source": [
    "import pandas as pd\n",
    "import numpy as np\n",
    "from sklearn.model_selection import train_test_split\n",
    "from sklearn.neural_network import MLPRegressor\n",
    "from sklearn.preprocessing.data import Normalizer\n",
    "from sklearn.preprocessing import MinMaxScaler\n",
    "from sklearn.preprocessing import StandardScaler\n",
    "from sklearn.decomposition import PCA\n",
    "from sklearn import preprocessing\n",
    "\n",
    "\n",
    "columns = ['dataset','building','has_act','start','end'] + range(62)\n",
    "data = pd.read_csv('windat_microwave.csv', names=columns, index_col=None, \n",
    "                   header=None, parse_dates=['start','end'], date_parser=pd.to_datetime)\n",
    "data.head()"
   ]
  },
  {
   "cell_type": "code",
   "execution_count": 22,
   "metadata": {
    "collapsed": false,
    "deletable": true,
    "editable": true
   },
   "outputs": [
    {
     "name": "stdout",
     "output_type": "stream",
     "text": [
      "Casas de REDD con activaciones: []\n",
      "Casas de REDD sin activaciones: [1 2 3 5]\n",
      "Casas de UK-DALE con activaciones: [1]\n",
      "Casas de UK-DALE sin activaciones: [1 2 4 5]\n"
     ]
    }
   ],
   "source": [
    "# separar por dataset\n",
    "data_redd = data[data['dataset'] == 'redd']\n",
    "data_ukdale = data[data['dataset'] == 'ukdale']\n",
    "\n",
    "# separar por si tienen o no activaciones\n",
    "data_redd_act = data_redd[data_redd['has_act'] == 1]\n",
    "data_redd_noact = data_redd[data_redd['has_act'] == 0]\n",
    "data_ukdale_act = data_ukdale[data_ukdale['has_act'] == 1]\n",
    "data_ukdale_noact = data_ukdale[data_ukdale['has_act'] == 0]\n",
    "\n",
    "print \"Casas de REDD con activaciones: \" + str(data_redd_act['building'].unique())\n",
    "print \"Casas de REDD sin activaciones: \" + str(data_redd_noact['building'].unique())\n",
    "print \"Casas de UK-DALE con activaciones: \"+ str(data_ukdale_act['building'].unique())\n",
    "print \"Casas de UK-DALE sin activaciones: \" + str(data_ukdale_noact['building'].unique())"
   ]
  },
  {
   "cell_type": "markdown",
   "metadata": {
    "deletable": true,
    "editable": true
   },
   "source": [
    "Elijo la casas de REDD 3-5 y UKDALE-5 para validar como casas no vistas."
   ]
  },
  {
   "cell_type": "code",
   "execution_count": 23,
   "metadata": {
    "collapsed": false,
    "deletable": true,
    "editable": true
   },
   "outputs": [],
   "source": [
    "data_train = data_redd_noact[data_redd_noact['building'].isin([1,2])]\n",
    "data_train = data_train.append(data_ukdale_act, ignore_index=True)\n",
    "data_train = data_train.append(data_ukdale_noact[data_ukdale_noact['building'].isin([1,2,4])], ignore_index=True)\n",
    "data_valid = data_redd_noact[data_redd_noact['building'].isin([3,4])]\n",
    "data_valid = data_valid.append(data_ukdale_noact[data_ukdale_noact['building'].isin([5])], ignore_index=True)"
   ]
  },
  {
   "cell_type": "code",
   "execution_count": 24,
   "metadata": {
    "collapsed": false,
    "deletable": true,
    "editable": true
   },
   "outputs": [],
   "source": [
    "data_train = data_train[range(62)]\n",
    "data_train = data_train.fillna(0)\n",
    "data_valid = data_valid[range(62)]\n",
    "data_valid = data_valid.fillna(0)\n",
    "\n",
    "d = np.shape(data_train)[1]/2\n",
    "X_train = preprocessing.scale(np.array(data_train.iloc[:,:d]), with_mean=False, with_std=True)\n",
    "y_train = preprocessing.scale(np.array(data_train.iloc[:,d:]), with_mean=False, with_std=True)\n",
    "\n",
    "X_train, X_test, y_train, y_test = train_test_split(X_train, y_train, test_size=0.33, random_state=42)\n",
    "\n",
    "X_valid = preprocessing.scale(np.array(data_valid.iloc[:,:d]), with_mean=False, with_std=True)\n",
    "y_valid = preprocessing.scale(np.array(data_valid.iloc[:,d:]), with_mean=False, with_std=True)"
   ]
  },
  {
   "cell_type": "code",
   "execution_count": 25,
   "metadata": {
    "collapsed": false,
    "deletable": true,
    "editable": true
   },
   "outputs": [],
   "source": [
    "regressor = MLPRegressor(solver='adam',\n",
    "                        alpha=1e-5,\n",
    "                        activation = 'tanh',\n",
    "                        verbose = False,\n",
    "                        hidden_layer_sizes=(500,500,500,),\n",
    "                        tol=1e-8,\n",
    "                        learning_rate='adaptive',\n",
    "                        learning_rate_init=0.001,\n",
    "                        random_state=1,\n",
    "                        early_stopping=False,\n",
    "                        validation_fraction=0.2)\n",
    "\n",
    "regressor = regressor.fit(X_train, y_train)"
   ]
  },
  {
   "cell_type": "code",
   "execution_count": 26,
   "metadata": {
    "collapsed": false,
    "deletable": true,
    "editable": true
   },
   "outputs": [
    {
     "name": "stdout",
     "output_type": "stream",
     "text": [
      "Train data: score= 0.924567066902\n",
      "Test data: score= 0.39882529216\n",
      "Validate data: score= -2.60539603931\n"
     ]
    }
   ],
   "source": [
    "print \"Train data: score= {}\".format(regressor.score(X_train, y_train))\n",
    "print \"Test data: score= {}\".format(regressor.score(X_test, y_test))\n",
    "print \"Validate data: score= {}\".format(regressor.score(X_valid, y_valid))"
   ]
  }
 ],
 "metadata": {
  "kernelspec": {
   "display_name": "Python 2",
   "language": "python",
   "name": "python2"
  },
  "language_info": {
   "codemirror_mode": {
    "name": "ipython",
    "version": 2
   },
   "file_extension": ".py",
   "mimetype": "text/x-python",
   "name": "python",
   "nbconvert_exporter": "python",
   "pygments_lexer": "ipython2",
   "version": "2.7.13"
  }
 },
 "nbformat": 4,
 "nbformat_minor": 2
}
