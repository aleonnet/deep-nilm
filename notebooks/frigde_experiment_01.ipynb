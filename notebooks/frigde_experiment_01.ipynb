{
 "cells": [
  {
   "cell_type": "code",
   "execution_count": 15,
   "metadata": {
    "collapsed": false,
    "deletable": true,
    "editable": true
   },
   "outputs": [
    {
     "data": {
      "text/html": [
       "<div>\n",
       "<table border=\"1\" class=\"dataframe\">\n",
       "  <thead>\n",
       "    <tr style=\"text-align: right;\">\n",
       "      <th></th>\n",
       "      <th>dataset</th>\n",
       "      <th>building</th>\n",
       "      <th>has_act</th>\n",
       "      <th>start</th>\n",
       "      <th>end</th>\n",
       "      <th>0</th>\n",
       "      <th>1</th>\n",
       "      <th>2</th>\n",
       "      <th>3</th>\n",
       "      <th>4</th>\n",
       "      <th>...</th>\n",
       "      <th>112</th>\n",
       "      <th>113</th>\n",
       "      <th>114</th>\n",
       "      <th>115</th>\n",
       "      <th>116</th>\n",
       "      <th>117</th>\n",
       "      <th>118</th>\n",
       "      <th>119</th>\n",
       "      <th>120</th>\n",
       "      <th>121</th>\n",
       "    </tr>\n",
       "  </thead>\n",
       "  <tbody>\n",
       "    <tr>\n",
       "      <th>0</th>\n",
       "      <td>redd</td>\n",
       "      <td>1</td>\n",
       "      <td>0</td>\n",
       "      <td>2011-04-18 16:02:48</td>\n",
       "      <td>2011-04-18 16:17:48</td>\n",
       "      <td>197.800003</td>\n",
       "      <td>194.679993</td>\n",
       "      <td>195.399994</td>\n",
       "      <td>195.089996</td>\n",
       "      <td>194.750000</td>\n",
       "      <td>...</td>\n",
       "      <td>NaN</td>\n",
       "      <td>NaN</td>\n",
       "      <td>NaN</td>\n",
       "      <td>NaN</td>\n",
       "      <td>NaN</td>\n",
       "      <td>NaN</td>\n",
       "      <td>NaN</td>\n",
       "      <td>NaN</td>\n",
       "      <td>NaN</td>\n",
       "      <td>NaN</td>\n",
       "    </tr>\n",
       "    <tr>\n",
       "      <th>1</th>\n",
       "      <td>redd</td>\n",
       "      <td>1</td>\n",
       "      <td>0</td>\n",
       "      <td>2011-04-18 16:04:05</td>\n",
       "      <td>2011-04-18 16:19:05</td>\n",
       "      <td>195.089996</td>\n",
       "      <td>194.750000</td>\n",
       "      <td>194.679993</td>\n",
       "      <td>195.850006</td>\n",
       "      <td>195.559998</td>\n",
       "      <td>...</td>\n",
       "      <td>NaN</td>\n",
       "      <td>NaN</td>\n",
       "      <td>NaN</td>\n",
       "      <td>NaN</td>\n",
       "      <td>NaN</td>\n",
       "      <td>NaN</td>\n",
       "      <td>NaN</td>\n",
       "      <td>NaN</td>\n",
       "      <td>NaN</td>\n",
       "      <td>NaN</td>\n",
       "    </tr>\n",
       "    <tr>\n",
       "      <th>2</th>\n",
       "      <td>redd</td>\n",
       "      <td>1</td>\n",
       "      <td>0</td>\n",
       "      <td>2011-04-18 16:04:10</td>\n",
       "      <td>2011-04-18 16:19:10</td>\n",
       "      <td>195.089996</td>\n",
       "      <td>194.750000</td>\n",
       "      <td>194.679993</td>\n",
       "      <td>195.850006</td>\n",
       "      <td>195.559998</td>\n",
       "      <td>...</td>\n",
       "      <td>NaN</td>\n",
       "      <td>NaN</td>\n",
       "      <td>NaN</td>\n",
       "      <td>NaN</td>\n",
       "      <td>NaN</td>\n",
       "      <td>NaN</td>\n",
       "      <td>NaN</td>\n",
       "      <td>NaN</td>\n",
       "      <td>NaN</td>\n",
       "      <td>NaN</td>\n",
       "    </tr>\n",
       "    <tr>\n",
       "      <th>3</th>\n",
       "      <td>redd</td>\n",
       "      <td>1</td>\n",
       "      <td>0</td>\n",
       "      <td>2011-04-18 16:04:25</td>\n",
       "      <td>2011-04-18 16:19:25</td>\n",
       "      <td>195.089996</td>\n",
       "      <td>194.750000</td>\n",
       "      <td>194.679993</td>\n",
       "      <td>195.850006</td>\n",
       "      <td>195.559998</td>\n",
       "      <td>...</td>\n",
       "      <td>NaN</td>\n",
       "      <td>NaN</td>\n",
       "      <td>NaN</td>\n",
       "      <td>NaN</td>\n",
       "      <td>NaN</td>\n",
       "      <td>NaN</td>\n",
       "      <td>NaN</td>\n",
       "      <td>NaN</td>\n",
       "      <td>NaN</td>\n",
       "      <td>NaN</td>\n",
       "    </tr>\n",
       "    <tr>\n",
       "      <th>4</th>\n",
       "      <td>redd</td>\n",
       "      <td>1</td>\n",
       "      <td>0</td>\n",
       "      <td>2011-04-18 16:05:04</td>\n",
       "      <td>2011-04-18 16:20:04</td>\n",
       "      <td>194.679993</td>\n",
       "      <td>195.850006</td>\n",
       "      <td>195.559998</td>\n",
       "      <td>195.880005</td>\n",
       "      <td>194.970001</td>\n",
       "      <td>...</td>\n",
       "      <td>NaN</td>\n",
       "      <td>NaN</td>\n",
       "      <td>NaN</td>\n",
       "      <td>NaN</td>\n",
       "      <td>NaN</td>\n",
       "      <td>NaN</td>\n",
       "      <td>NaN</td>\n",
       "      <td>NaN</td>\n",
       "      <td>NaN</td>\n",
       "      <td>NaN</td>\n",
       "    </tr>\n",
       "  </tbody>\n",
       "</table>\n",
       "<p>5 rows × 127 columns</p>\n",
       "</div>"
      ],
      "text/plain": [
       "  dataset  building  has_act               start                 end  \\\n",
       "0    redd         1        0 2011-04-18 16:02:48 2011-04-18 16:17:48   \n",
       "1    redd         1        0 2011-04-18 16:04:05 2011-04-18 16:19:05   \n",
       "2    redd         1        0 2011-04-18 16:04:10 2011-04-18 16:19:10   \n",
       "3    redd         1        0 2011-04-18 16:04:25 2011-04-18 16:19:25   \n",
       "4    redd         1        0 2011-04-18 16:05:04 2011-04-18 16:20:04   \n",
       "\n",
       "            0           1           2           3           4 ...   112  113  \\\n",
       "0  197.800003  194.679993  195.399994  195.089996  194.750000 ...   NaN  NaN   \n",
       "1  195.089996  194.750000  194.679993  195.850006  195.559998 ...   NaN  NaN   \n",
       "2  195.089996  194.750000  194.679993  195.850006  195.559998 ...   NaN  NaN   \n",
       "3  195.089996  194.750000  194.679993  195.850006  195.559998 ...   NaN  NaN   \n",
       "4  194.679993  195.850006  195.559998  195.880005  194.970001 ...   NaN  NaN   \n",
       "\n",
       "   114  115  116  117  118  119  120  121  \n",
       "0  NaN  NaN  NaN  NaN  NaN  NaN  NaN  NaN  \n",
       "1  NaN  NaN  NaN  NaN  NaN  NaN  NaN  NaN  \n",
       "2  NaN  NaN  NaN  NaN  NaN  NaN  NaN  NaN  \n",
       "3  NaN  NaN  NaN  NaN  NaN  NaN  NaN  NaN  \n",
       "4  NaN  NaN  NaN  NaN  NaN  NaN  NaN  NaN  \n",
       "\n",
       "[5 rows x 127 columns]"
      ]
     },
     "execution_count": 15,
     "metadata": {},
     "output_type": "execute_result"
    }
   ],
   "source": [
    "import pandas as pd\n",
    "import numpy as np\n",
    "from sklearn.model_selection import train_test_split\n",
    "from sklearn.neural_network import MLPRegressor\n",
    "from sklearn.preprocessing.data import Normalizer\n",
    "from sklearn.preprocessing import MinMaxScaler\n",
    "from sklearn.preprocessing import StandardScaler\n",
    "from sklearn.decomposition import PCA\n",
    "from sklearn import preprocessing\n",
    "\n",
    "\n",
    "columns = ['dataset','building','has_act','start','end'] + range(122)\n",
    "data = pd.read_csv('windat_fridge.csv', names=columns, index_col=None, \n",
    "                   header=None, parse_dates=['start','end'], date_parser=pd.to_datetime)\n",
    "data.head()"
   ]
  },
  {
   "cell_type": "code",
   "execution_count": 16,
   "metadata": {
    "collapsed": false,
    "deletable": true,
    "editable": true
   },
   "outputs": [
    {
     "name": "stdout",
     "output_type": "stream",
     "text": [
      "Casas de REDD con activaciones: []\n",
      "Casas de REDD sin activaciones: [1 2 3 5 6]\n",
      "Casas de UK-DALE con activaciones: [1]\n",
      "Casas de UK-DALE sin activaciones: [1 2 4 5]\n"
     ]
    }
   ],
   "source": [
    "# separar por dataset\n",
    "data_redd = data[data['dataset'] == 'redd']\n",
    "data_ukdale = data[data['dataset'] == 'ukdale']\n",
    "\n",
    "# separar por si tienen o no activaciones\n",
    "data_redd_act = data_redd[data_redd['has_act'] == 1]\n",
    "data_redd_noact = data_redd[data_redd['has_act'] == 0]\n",
    "data_ukdale_act = data_ukdale[data_ukdale['has_act'] == 1]\n",
    "data_ukdale_noact = data_ukdale[data_ukdale['has_act'] == 0]\n",
    "\n",
    "print \"Casas de REDD con activaciones: \" + str(data_redd_act['building'].unique())\n",
    "print \"Casas de REDD sin activaciones: \" + str(data_redd_noact['building'].unique())\n",
    "print \"Casas de UK-DALE con activaciones: \"+ str(data_ukdale_act['building'].unique())\n",
    "print \"Casas de UK-DALE sin activaciones: \" + str(data_ukdale_noact['building'].unique())"
   ]
  },
  {
   "cell_type": "markdown",
   "metadata": {
    "deletable": true,
    "editable": true
   },
   "source": [
    "Elijo la casas de REDD 5-6 y UKDALE-5 para validar como casas no vistas."
   ]
  },
  {
   "cell_type": "code",
   "execution_count": 17,
   "metadata": {
    "collapsed": false,
    "deletable": true,
    "editable": true
   },
   "outputs": [],
   "source": [
    "data_train = data_redd_act[data_redd_act['building'].isin([1,2,3])]\n",
    "data_train = data_train.append(data_ukdale_act[data_ukdale_act['building'].isin([1,2,4])], ignore_index=True)\n",
    "data_train = data_train.append(data_ukdale_noact, ignore_index=True)\n",
    "data_valid = data_redd_act[data_redd_act['building'].isin([5,6])]\n",
    "data_valid = data_valid.append(data_ukdale_noact[data_ukdale_noact['building'].isin([5])], ignore_index=True)"
   ]
  },
  {
   "cell_type": "code",
   "execution_count": 18,
   "metadata": {
    "collapsed": false,
    "deletable": true,
    "editable": true
   },
   "outputs": [],
   "source": [
    "data_train = data_train[range(122)]\n",
    "data_train = data_train.fillna(0)\n",
    "data_valid = data_valid[range(122)]\n",
    "data_valid = data_valid.fillna(0)\n",
    "\n",
    "d = np.shape(data_train)[1]/2\n",
    "X_train = preprocessing.scale(np.array(data_train.iloc[:,:d]), with_mean=False, with_std=True)\n",
    "y_train = preprocessing.scale(np.array(data_train.iloc[:,d:]), with_mean=False, with_std=True)\n",
    "\n",
    "X_train, X_test, y_train, y_test = train_test_split(X_train, y_train, test_size=0.33, random_state=42)\n",
    "\n",
    "X_valid = preprocessing.scale(np.array(data_valid.iloc[:,:d]), with_mean=False, with_std=True)\n",
    "y_valid = preprocessing.scale(np.array(data_valid.iloc[:,d:]), with_mean=False, with_std=True)"
   ]
  },
  {
   "cell_type": "code",
   "execution_count": 19,
   "metadata": {
    "collapsed": true,
    "deletable": true,
    "editable": true
   },
   "outputs": [],
   "source": [
    "regressor = MLPRegressor(solver='adam',\n",
    "                        alpha=1e-5,\n",
    "                        activation = 'tanh',\n",
    "                        verbose = False,\n",
    "                        hidden_layer_sizes=(500,500,500,),\n",
    "                        tol=1e-8,\n",
    "                        learning_rate='adaptive',\n",
    "                        learning_rate_init=0.001,\n",
    "                        random_state=1,\n",
    "                        early_stopping=False,\n",
    "                        validation_fraction=0.2)\n",
    "\n",
    "regressor = regressor.fit(X_train, y_train)"
   ]
  },
  {
   "cell_type": "code",
   "execution_count": 21,
   "metadata": {
    "collapsed": false,
    "deletable": true,
    "editable": true
   },
   "outputs": [
    {
     "name": "stdout",
     "output_type": "stream",
     "text": [
      "Train data: score= 0.898270116465\n",
      "Test data: score= 0.889897784567\n",
      "Validate data: score= 0.48969144404\n"
     ]
    }
   ],
   "source": [
    "print \"Train data: score= {}\".format(regressor.score(X_train, y_train))\n",
    "print \"Test data: score= {}\".format(regressor.score(X_test, y_test))\n",
    "print \"Validate data: score= {}\".format(regressor.score(X_valid, y_valid))"
   ]
  }
 ],
 "metadata": {
  "kernelspec": {
   "display_name": "Python 2",
   "language": "python",
   "name": "python2"
  },
  "language_info": {
   "codemirror_mode": {
    "name": "ipython",
    "version": 2
   },
   "file_extension": ".py",
   "mimetype": "text/x-python",
   "name": "python",
   "nbconvert_exporter": "python",
   "pygments_lexer": "ipython2",
   "version": "2.7.13"
  }
 },
 "nbformat": 4,
 "nbformat_minor": 2
}
