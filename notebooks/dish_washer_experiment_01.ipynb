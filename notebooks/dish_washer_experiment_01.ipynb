{
 "cells": [
  {
   "cell_type": "code",
   "execution_count": 25,
   "metadata": {
    "collapsed": false,
    "deletable": true,
    "editable": true
   },
   "outputs": [
    {
     "data": {
      "text/html": [
       "<div>\n",
       "<table border=\"1\" class=\"dataframe\">\n",
       "  <thead>\n",
       "    <tr style=\"text-align: right;\">\n",
       "      <th></th>\n",
       "      <th>dataset</th>\n",
       "      <th>building</th>\n",
       "      <th>has_act</th>\n",
       "      <th>start</th>\n",
       "      <th>end</th>\n",
       "      <th>0</th>\n",
       "      <th>1</th>\n",
       "      <th>2</th>\n",
       "      <th>3</th>\n",
       "      <th>4</th>\n",
       "      <th>...</th>\n",
       "      <th>112</th>\n",
       "      <th>113</th>\n",
       "      <th>114</th>\n",
       "      <th>115</th>\n",
       "      <th>116</th>\n",
       "      <th>117</th>\n",
       "      <th>118</th>\n",
       "      <th>119</th>\n",
       "      <th>120</th>\n",
       "      <th>121</th>\n",
       "    </tr>\n",
       "  </thead>\n",
       "  <tbody>\n",
       "    <tr>\n",
       "      <th>0</th>\n",
       "      <td>redd</td>\n",
       "      <td>1</td>\n",
       "      <td>1</td>\n",
       "      <td>2011-04-18 20:16:55</td>\n",
       "      <td>2011-04-18 22:16:55</td>\n",
       "      <td>458.230011</td>\n",
       "      <td>444.719971</td>\n",
       "      <td>411.690002</td>\n",
       "      <td>411.739990</td>\n",
       "      <td>405.639984</td>\n",
       "      <td>...</td>\n",
       "      <td>0.0</td>\n",
       "      <td>0.0</td>\n",
       "      <td>0.0</td>\n",
       "      <td>0.0</td>\n",
       "      <td>0.0</td>\n",
       "      <td>0.0</td>\n",
       "      <td>0.0</td>\n",
       "      <td>0.0</td>\n",
       "      <td>NaN</td>\n",
       "      <td>NaN</td>\n",
       "    </tr>\n",
       "    <tr>\n",
       "      <th>1</th>\n",
       "      <td>redd</td>\n",
       "      <td>1</td>\n",
       "      <td>1</td>\n",
       "      <td>2011-04-18 20:17:52</td>\n",
       "      <td>2011-04-18 22:17:52</td>\n",
       "      <td>458.230011</td>\n",
       "      <td>444.719971</td>\n",
       "      <td>411.690002</td>\n",
       "      <td>411.739990</td>\n",
       "      <td>405.639984</td>\n",
       "      <td>...</td>\n",
       "      <td>0.0</td>\n",
       "      <td>0.0</td>\n",
       "      <td>0.0</td>\n",
       "      <td>0.0</td>\n",
       "      <td>0.0</td>\n",
       "      <td>0.0</td>\n",
       "      <td>0.0</td>\n",
       "      <td>0.0</td>\n",
       "      <td>NaN</td>\n",
       "      <td>NaN</td>\n",
       "    </tr>\n",
       "    <tr>\n",
       "      <th>2</th>\n",
       "      <td>redd</td>\n",
       "      <td>1</td>\n",
       "      <td>1</td>\n",
       "      <td>2011-04-18 20:19:42</td>\n",
       "      <td>2011-04-18 22:19:42</td>\n",
       "      <td>444.719971</td>\n",
       "      <td>411.690002</td>\n",
       "      <td>411.739990</td>\n",
       "      <td>405.639984</td>\n",
       "      <td>409.779999</td>\n",
       "      <td>...</td>\n",
       "      <td>0.0</td>\n",
       "      <td>0.0</td>\n",
       "      <td>0.0</td>\n",
       "      <td>0.0</td>\n",
       "      <td>0.0</td>\n",
       "      <td>0.0</td>\n",
       "      <td>0.0</td>\n",
       "      <td>0.0</td>\n",
       "      <td>NaN</td>\n",
       "      <td>NaN</td>\n",
       "    </tr>\n",
       "    <tr>\n",
       "      <th>3</th>\n",
       "      <td>redd</td>\n",
       "      <td>1</td>\n",
       "      <td>1</td>\n",
       "      <td>2011-04-18 20:21:42</td>\n",
       "      <td>2011-04-18 22:21:42</td>\n",
       "      <td>411.690002</td>\n",
       "      <td>411.739990</td>\n",
       "      <td>405.639984</td>\n",
       "      <td>409.779999</td>\n",
       "      <td>241.640015</td>\n",
       "      <td>...</td>\n",
       "      <td>0.0</td>\n",
       "      <td>0.0</td>\n",
       "      <td>0.0</td>\n",
       "      <td>0.0</td>\n",
       "      <td>0.0</td>\n",
       "      <td>0.0</td>\n",
       "      <td>0.0</td>\n",
       "      <td>0.0</td>\n",
       "      <td>NaN</td>\n",
       "      <td>NaN</td>\n",
       "    </tr>\n",
       "    <tr>\n",
       "      <th>4</th>\n",
       "      <td>redd</td>\n",
       "      <td>1</td>\n",
       "      <td>1</td>\n",
       "      <td>2011-04-18 20:23:06</td>\n",
       "      <td>2011-04-18 22:23:06</td>\n",
       "      <td>411.739990</td>\n",
       "      <td>405.639984</td>\n",
       "      <td>409.779999</td>\n",
       "      <td>241.640015</td>\n",
       "      <td>242.950012</td>\n",
       "      <td>...</td>\n",
       "      <td>0.0</td>\n",
       "      <td>0.0</td>\n",
       "      <td>0.0</td>\n",
       "      <td>0.0</td>\n",
       "      <td>0.0</td>\n",
       "      <td>0.0</td>\n",
       "      <td>0.0</td>\n",
       "      <td>0.0</td>\n",
       "      <td>NaN</td>\n",
       "      <td>NaN</td>\n",
       "    </tr>\n",
       "  </tbody>\n",
       "</table>\n",
       "<p>5 rows × 127 columns</p>\n",
       "</div>"
      ],
      "text/plain": [
       "  dataset  building  has_act               start                 end  \\\n",
       "0    redd         1        1 2011-04-18 20:16:55 2011-04-18 22:16:55   \n",
       "1    redd         1        1 2011-04-18 20:17:52 2011-04-18 22:17:52   \n",
       "2    redd         1        1 2011-04-18 20:19:42 2011-04-18 22:19:42   \n",
       "3    redd         1        1 2011-04-18 20:21:42 2011-04-18 22:21:42   \n",
       "4    redd         1        1 2011-04-18 20:23:06 2011-04-18 22:23:06   \n",
       "\n",
       "            0           1           2           3           4 ...   112  113  \\\n",
       "0  458.230011  444.719971  411.690002  411.739990  405.639984 ...   0.0  0.0   \n",
       "1  458.230011  444.719971  411.690002  411.739990  405.639984 ...   0.0  0.0   \n",
       "2  444.719971  411.690002  411.739990  405.639984  409.779999 ...   0.0  0.0   \n",
       "3  411.690002  411.739990  405.639984  409.779999  241.640015 ...   0.0  0.0   \n",
       "4  411.739990  405.639984  409.779999  241.640015  242.950012 ...   0.0  0.0   \n",
       "\n",
       "   114  115  116  117  118  119  120  121  \n",
       "0  0.0  0.0  0.0  0.0  0.0  0.0  NaN  NaN  \n",
       "1  0.0  0.0  0.0  0.0  0.0  0.0  NaN  NaN  \n",
       "2  0.0  0.0  0.0  0.0  0.0  0.0  NaN  NaN  \n",
       "3  0.0  0.0  0.0  0.0  0.0  0.0  NaN  NaN  \n",
       "4  0.0  0.0  0.0  0.0  0.0  0.0  NaN  NaN  \n",
       "\n",
       "[5 rows x 127 columns]"
      ]
     },
     "execution_count": 25,
     "metadata": {},
     "output_type": "execute_result"
    }
   ],
   "source": [
    "import pandas as pd\n",
    "import numpy as np\n",
    "from sklearn.model_selection import train_test_split\n",
    "from sklearn.neural_network import MLPRegressor\n",
    "from sklearn.preprocessing.data import Normalizer\n",
    "from sklearn.preprocessing import MinMaxScaler\n",
    "from sklearn.preprocessing import StandardScaler\n",
    "from sklearn.decomposition import PCA\n",
    "from sklearn import preprocessing\n",
    "\n",
    "\n",
    "columns = ['dataset','building','has_act','start','end'] + range(122)\n",
    "data = pd.read_csv('windat_dish_washer.csv', names=columns, index_col=None, \n",
    "                   header=None, parse_dates=['start','end'], date_parser=pd.to_datetime)\n",
    "data.head()"
   ]
  },
  {
   "cell_type": "code",
   "execution_count": 26,
   "metadata": {
    "collapsed": false,
    "deletable": true,
    "editable": true
   },
   "outputs": [
    {
     "name": "stdout",
     "output_type": "stream",
     "text": [
      "Casas de REDD con activaciones: [1 2 3 4 5 6]\n",
      "Casas de REDD sin activaciones: [2 3 4 5 6]\n",
      "Casas de UK-DALE con activaciones: [1 2 5]\n",
      "Casas de UK-DALE sin activaciones: []\n"
     ]
    }
   ],
   "source": [
    "# separar por dataset\n",
    "data_redd = data[data['dataset'] == 'redd']\n",
    "data_ukdale = data[data['dataset'] == 'ukdale']\n",
    "\n",
    "# separar por si tienen o no activaciones\n",
    "data_redd_act = data_redd[data_redd['has_act'] == 1]\n",
    "data_redd_noact = data_redd[data_redd['has_act'] == 0]\n",
    "data_ukdale_act = data_ukdale[data_ukdale['has_act'] == 1]\n",
    "data_ukdale_noact = data_ukdale[data_ukdale['has_act'] == 0]\n",
    "\n",
    "print \"Casas de REDD con activaciones: \" + str(data_redd_act['building'].unique())\n",
    "print \"Casas de REDD sin activaciones: \" + str(data_redd_noact['building'].unique())\n",
    "print \"Casas de UK-DALE con activaciones: \"+ str(data_ukdale_act['building'].unique())\n",
    "print \"Casas de UK-DALE sin activaciones: \" + str(data_ukdale_noact['building'].unique())"
   ]
  },
  {
   "cell_type": "markdown",
   "metadata": {},
   "source": [
    "Elijo la casas de REDD 5 y 6 para validar como casas no vistas.\n",
    "No valido entrenando con un conjunto y validando con otro porque UK-DALE no tiene casas sin activaciones en este caso."
   ]
  },
  {
   "cell_type": "code",
   "execution_count": 27,
   "metadata": {
    "collapsed": false
   },
   "outputs": [
    {
     "name": "stderr",
     "output_type": "stream",
     "text": [
      "/usr/local/lib/python2.7/dist-packages/ipykernel/__main__.py:1: UserWarning: Boolean Series key will be reindexed to match DataFrame index.\n",
      "  if __name__ == '__main__':\n",
      "/usr/local/lib/python2.7/dist-packages/ipykernel/__main__.py:3: UserWarning: Boolean Series key will be reindexed to match DataFrame index.\n",
      "  app.launch_new_instance()\n"
     ]
    }
   ],
   "source": [
    "data_train = data_redd_act[data_redd['building'].isin([1,2,3,4])]\n",
    "data_train = data_train.append(data_ukdale, ignore_index=True)\n",
    "data_valid = data_redd_act[data_redd['building'].isin([5,6])]"
   ]
  },
  {
   "cell_type": "code",
   "execution_count": 28,
   "metadata": {
    "collapsed": true,
    "deletable": true,
    "editable": true
   },
   "outputs": [],
   "source": [
    "data_train = data_train[range(122)]\n",
    "data_train = data_train.fillna(0)\n",
    "data_valid = data_valid[range(122)]\n",
    "data_valid = data_valid.fillna(0)\n",
    "\n",
    "d = np.shape(data_train)[1]/2\n",
    "X_train = preprocessing.scale(np.array(data_train.iloc[:,:d]), with_mean=False, with_std=True)\n",
    "y_train = preprocessing.scale(np.array(data_train.iloc[:,d:]), with_mean=False, with_std=True)\n",
    "\n",
    "X_train, X_test, y_train, y_test = train_test_split(X_train, y_train, test_size=0.33, random_state=42)\n",
    "\n",
    "X_valid = preprocessing.scale(np.array(data_valid.iloc[:,:d]), with_mean=False, with_std=True)\n",
    "y_valid = preprocessing.scale(np.array(data_valid.iloc[:,d:]), with_mean=False, with_std=True)"
   ]
  },
  {
   "cell_type": "code",
   "execution_count": 29,
   "metadata": {
    "collapsed": true,
    "deletable": true,
    "editable": true
   },
   "outputs": [],
   "source": [
    "regressor = MLPRegressor(solver='adam',\n",
    "                        alpha=1e-5,\n",
    "                        activation = 'tanh',\n",
    "                        verbose = False,\n",
    "                        hidden_layer_sizes=(500,500,500,),\n",
    "                        tol=1e-8,\n",
    "                        learning_rate='adaptive',\n",
    "                        learning_rate_init=0.001,\n",
    "                        random_state=1,\n",
    "                        early_stopping=False,\n",
    "                        validation_fraction=0.2)\n",
    "\n",
    "regressor = regressor.fit(X_train, y_train)"
   ]
  },
  {
   "cell_type": "code",
   "execution_count": 34,
   "metadata": {
    "collapsed": false,
    "deletable": true,
    "editable": true
   },
   "outputs": [
    {
     "name": "stdout",
     "output_type": "stream",
     "text": [
      "Train data: score= 0.99548791363\n",
      "Test data: score= 0.414074805414\n",
      "Validate data: score= -1.14594308552\n"
     ]
    }
   ],
   "source": [
    "print \"Train data: score= {}\".format(regressor.score(X_train, y_train))\n",
    "print \"Test data: score= {}\".format(regressor.score(X_test, y_test))\n",
    "print \"Validate data: score= {}\".format(regressor.score(X_valid, y_valid))"
   ]
  }
 ],
 "metadata": {
  "kernelspec": {
   "display_name": "Python 2",
   "language": "python",
   "name": "python2"
  },
  "language_info": {
   "codemirror_mode": {
    "name": "ipython",
    "version": 2
   },
   "file_extension": ".py",
   "mimetype": "text/x-python",
   "name": "python",
   "nbconvert_exporter": "python",
   "pygments_lexer": "ipython2",
   "version": "2.7.13"
  }
 },
 "nbformat": 4,
 "nbformat_minor": 2
}
